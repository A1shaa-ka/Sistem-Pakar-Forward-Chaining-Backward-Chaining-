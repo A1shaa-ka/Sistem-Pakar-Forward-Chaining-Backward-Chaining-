{
  "nbformat": 4,
  "nbformat_minor": 0,
  "metadata": {
    "colab": {
      "provenance": [],
      "authorship_tag": "ABX9TyNV1X5rcrV3Q/HwV8guxcjX",
      "include_colab_link": true
    },
    "kernelspec": {
      "name": "python3",
      "display_name": "Python 3"
    },
    "language_info": {
      "name": "python"
    }
  },
  "cells": [
    {
      "cell_type": "markdown",
      "metadata": {
        "id": "view-in-github",
        "colab_type": "text"
      },
      "source": [
        "<a href=\"https://colab.research.google.com/github/A1shaa-ka/Sistem-Pakar-Forward-Chaining-Backward-Chaining-/blob/main/P06.ipynb\" target=\"_parent\"><img src=\"https://colab.research.google.com/assets/colab-badge.svg\" alt=\"Open In Colab\"/></a>"
      ]
    },
    {
      "cell_type": "markdown",
      "source": [
        "**Sistem Pakar Diagnosa Penyakit**"
      ],
      "metadata": {
        "id": "tojfWmUDZvX8"
      }
    },
    {
      "cell_type": "code",
      "source": [
        "!pip install experta"
      ],
      "metadata": {
        "colab": {
          "base_uri": "https://localhost:8080/"
        },
        "id": "uYxIXSWlZ2u7",
        "outputId": "dfb52056-b233-4dec-9376-79d516459424"
      },
      "execution_count": 2,
      "outputs": [
        {
          "output_type": "stream",
          "name": "stdout",
          "text": [
            "Collecting experta\n",
            "  Downloading experta-1.9.4-py3-none-any.whl.metadata (5.0 kB)\n",
            "Collecting frozendict==1.2 (from experta)\n",
            "  Downloading frozendict-1.2.tar.gz (2.6 kB)\n",
            "  Preparing metadata (setup.py) ... \u001b[?25l\u001b[?25hdone\n",
            "Collecting schema==0.6.7 (from experta)\n",
            "  Downloading schema-0.6.7-py2.py3-none-any.whl.metadata (14 kB)\n",
            "Downloading experta-1.9.4-py3-none-any.whl (35 kB)\n",
            "Downloading schema-0.6.7-py2.py3-none-any.whl (14 kB)\n",
            "Building wheels for collected packages: frozendict\n",
            "  Building wheel for frozendict (setup.py) ... \u001b[?25l\u001b[?25hdone\n",
            "  Created wheel for frozendict: filename=frozendict-1.2-py3-none-any.whl size=3149 sha256=56df20db0e3d8d9b7db28abb678369d42b6460e77422bc5b919808ee6d0df03f\n",
            "  Stored in directory: /root/.cache/pip/wheels/49/ac/f8/cb8120244e710bdb479c86198b03c7b08c3c2d3d2bf448fd6e\n",
            "Successfully built frozendict\n",
            "Installing collected packages: schema, frozendict, experta\n",
            "  Attempting uninstall: frozendict\n",
            "    Found existing installation: frozendict 2.4.6\n",
            "    Uninstalling frozendict-2.4.6:\n",
            "      Successfully uninstalled frozendict-2.4.6\n",
            "\u001b[31mERROR: pip's dependency resolver does not currently take into account all the packages that are installed. This behaviour is the source of the following dependency conflicts.\n",
            "yfinance 0.2.55 requires frozendict>=2.3.4, but you have frozendict 1.2 which is incompatible.\u001b[0m\u001b[31m\n",
            "\u001b[0mSuccessfully installed experta-1.9.4 frozendict-1.2 schema-0.6.7\n"
          ]
        }
      ]
    },
    {
      "cell_type": "code",
      "source": [
        "!pip install --upgrade frozendict"
      ],
      "metadata": {
        "colab": {
          "base_uri": "https://localhost:8080/"
        },
        "id": "gZ6yvuJ4aZAU",
        "outputId": "0bae9b20-df62-4e23-bdce-7bcbaf8e1c46"
      },
      "execution_count": 3,
      "outputs": [
        {
          "output_type": "stream",
          "name": "stdout",
          "text": [
            "Requirement already satisfied: frozendict in /usr/local/lib/python3.11/dist-packages (1.2)\n",
            "Collecting frozendict\n",
            "  Downloading frozendict-2.4.6-py311-none-any.whl.metadata (23 kB)\n",
            "Downloading frozendict-2.4.6-py311-none-any.whl (16 kB)\n",
            "Installing collected packages: frozendict\n",
            "  Attempting uninstall: frozendict\n",
            "    Found existing installation: frozendict 1.2\n",
            "    Uninstalling frozendict-1.2:\n",
            "      Successfully uninstalled frozendict-1.2\n",
            "\u001b[31mERROR: pip's dependency resolver does not currently take into account all the packages that are installed. This behaviour is the source of the following dependency conflicts.\n",
            "experta 1.9.4 requires frozendict==1.2, but you have frozendict 2.4.6 which is incompatible.\u001b[0m\u001b[31m\n",
            "\u001b[0mSuccessfully installed frozendict-2.4.6\n"
          ]
        }
      ]
    },
    {
      "cell_type": "code",
      "source": [
        "from experta import *\n",
        "class Diagnosis(KnowledgeEngine):\n",
        "\n",
        "    @Rule(Fact(cough=True) & Fact(fever=True) & Fact(fatigue=True))\n",
        "    def flu(self):\n",
        "      print(\"Diagnosis: You may have the flu.\")\n",
        "\n",
        "    @Rule(Fact(cough=True) & Fact(fever=True) & Fact(breathing_difficulty=True))\n",
        "    def pneumonia(self):\n",
        "      print(\"Diagnosis: You may have pneumonia.\")\n",
        "\n",
        "    @Rule(Fact(sneezing=True) & Fact(runny_nose=True) & Fact(cough=True))\n",
        "    def cold(self):\n",
        "      print(\"Diagnosis: You may have a common cold.\")\n",
        "\n",
        "    @Rule(Fact(sore_throat=True) & Fact(fever=True))\n",
        "    def throat_infection(self):\n",
        "      print(\"Diagnosis; You may have a throat infection.\")\n",
        "\n",
        "    @Rule(Fact(headache=True) & Fact(nausea=True) & Fact(sensitivity_to_light=True))\n",
        "    def migraine(self):\n",
        "        print(\"Diagnosis: You may have a migraine.\")\n",
        "\n",
        "    @Rule(Fact(abdominal_pain=True) & Fact(diarrhea=True) & Fact(vomiting=True))\n",
        "    def food_poisoning(self):\n",
        "        print(\"Diagnosis: You may have food poisoning.\")\n",
        "\n",
        "    @Rule(Fact(chest_pain=True) & Fact(shortness_of_breath=True) & Fact(sweating=True))\n",
        "    def heart_attack(self):\n",
        "        print(\"Diagnosis: You may be having a heart attack. Seek immediate medical attention.\")\n",
        "\n",
        "    @Rule(Fact(itchy_skin=True) & Fact(redness=True) & Fact(swelling=True))\n",
        "    def allergic_reaction(self):\n",
        "        print(\"Diagnosis: You may be having an allergic reaction.\")\n",
        "\n",
        "    @Rule(Fact(cough=False) & Fact(fever=False) & Fact(fatigue=False))\n",
        "    def healthy(self):\n",
        "      print(\"Diagnosis: You seem to be healthy.\")\n",
        "\n",
        "def get_input():\n",
        "    \"\"\"Helper function to get user input as boolean (yes/no).\"\"\"\n",
        "    def ask_question(question):\n",
        "        return input(question + \" (yes/no): \").strip().lower() == \"yes\"\n",
        "\n",
        "    return {\n",
        "         \"cough\": ask_question(\"Do you have a cough?\"),\n",
        "         \"fever\": ask_question(\"Do you have a fever?\"),\n",
        "         \"fatigue\": ask_question(\"Do you feel fatigued?\"),\n",
        "         \"breathing_difficulty\": ask_question(\"Do you have breathing difficulties?\"),\n",
        "         \"sneezing\": ask_question(\"Are you sneezing?\"),\n",
        "         \"runnt_nose\": ask_question(\"Do you have a runny nose?\"),\n",
        "         \"sore_throat\": ask_question(\"Do you have a sore throat?\"),\n",
        "         \"headache\": ask_question(\"Do you have a headache?\"),\n",
        "         \"nausea\": ask_question(\"Do you feel nauseous?\"),\n",
        "         \"sensitivity_to_light\": ask_question(\"Are you sensitive to light?\"),\n",
        "         \"abdominal_pain\": ask_question(\"Do you have abdominal pain?\"),\n",
        "         \"diarrhea\": ask_question(\"Do you have diarrhea?\"),\n",
        "         \"vomiting\": ask_question(\"Are you vomiting?\"),\n",
        "         \"chest_pain\": ask_question(\"Do you have chest pain?\"),\n",
        "         \"shortness_of_breath\": ask_question(\"Do you have shortness of breath?\"),\n",
        "         \"sweating\": ask_question(\"Are you sweating excessively?\"),\n",
        "         \"itchy_skin\": ask_question(\"Do you have itchy skin?\"),\n",
        "         \"redness\": ask_question(\"Do you have redness on your skin?\"),\n",
        "         \"swelling\": ask_question(\"Do you have swelling?\"),\n",
        "    }\n",
        "\n",
        "#Running the expert system\n",
        "if __name__ == \"__main__\":\n",
        "    symptoms = get_input()\n",
        "    engine = Diagnosis()\n",
        "    engine.reset #Reset the knowledge engine\n",
        "\n",
        "    for symptom, present in symptoms.items():\n",
        "        engine.declare(Fact(**{symptom: present})) #Declare facts\n",
        "\n",
        "    engine.run() #Run the inference engine"
      ],
      "metadata": {
        "colab": {
          "base_uri": "https://localhost:8080/"
        },
        "id": "oWA_3WlWbEl0",
        "outputId": "886bea15-4545-4468-bb26-526e7c01a99f"
      },
      "execution_count": 4,
      "outputs": [
        {
          "name": "stdout",
          "output_type": "stream",
          "text": [
            "Do you have a cough? (yes/no): yes\n",
            "Do you have a fever? (yes/no): yes\n",
            "Do you feel fatigued? (yes/no): yes\n",
            "Do you have breathing difficulties? (yes/no): yes\n",
            "Are you sneezing? (yes/no): yes\n",
            "Do you have a runny nose? (yes/no): yes\n",
            "Do you have a sore throat? (yes/no): yes\n",
            "Do you have a headache? (yes/no): yes\n",
            "Do you feel nauseous? (yes/no): yes\n",
            "Are you sensitive to light? (yes/no): yes\n",
            "Do you have abdominal pain? (yes/no): yes\n",
            "Do you have diarrhea? (yes/no): yes\n",
            "Are you vomiting? (yes/no): yes\n",
            "Do you have chest pain? (yes/no): yes\n",
            "Do you have shortness of breath? (yes/no): yes\n",
            "Are you sweating excessively? (yes/no): yes\n",
            "Do you have itchy skin? (yes/no): yes\n",
            "Do you have redness on your skin? (yes/no): yes\n",
            "Do you have swelling? (yes/no): yes\n"
          ]
        },
        {
          "output_type": "stream",
          "name": "stderr",
          "text": [
            "WARNING:experta.watchers.ENGINE:Declaring fact before reset()\n"
          ]
        },
        {
          "output_type": "stream",
          "name": "stdout",
          "text": [
            "Diagnosis: You may be having an allergic reaction.\n",
            "Diagnosis: You may be having a heart attack. Seek immediate medical attention.\n",
            "Diagnosis: You may have food poisoning.\n",
            "Diagnosis: You may have a migraine.\n",
            "Diagnosis; You may have a throat infection.\n",
            "Diagnosis: You may have pneumonia.\n",
            "Diagnosis: You may have the flu.\n"
          ]
        }
      ]
    },
    {
      "cell_type": "code",
      "source": [
        "from experta import *\n",
        "class SistemPakarMedis(KnowledgeEngine):\n",
        "\n",
        "    @Rule(Fact(demam=True) & Fact(batuk=True))\n",
        "    def flu(self):\n",
        "      print(\"Diagnosis: Flu.\")\n",
        "\n",
        "    @Rule(Fact(sakit_tenggorokan=True) & Fact(demam=True))\n",
        "    def throat_infection(self):\n",
        "      print(\"Diagnosis: Radang tenggorokan.\")\n",
        "\n",
        "    @Rule(Fact(headache=True) & Fact(nausea=True) & Fact(sensitivity_to_light=True))\n",
        "    def migraine(self):\n",
        "        print(\"Diagnosis: You may have a migraine.\")\n",
        "\n",
        "    @Rule(Fact(abdominal_pain=True) & Fact(diarrhea=True) & Fact(vomiting=True))\n",
        "    def food_poisoning(self):\n",
        "        print(\"Diagnosis: You may have food poisoning.\")\n",
        "\n",
        "    @Rule(Fact(chest_pain=True) & Fact(shortness_of_breath=True) & Fact(sweating=True))\n",
        "    def heart_attack(self):\n",
        "        print(\"Diagnosis: You may be having a heart attack. Seek immediate medical attention.\")\n",
        "\n",
        "    @Rule(Fact(itchy_skin=True) & Fact(redness=True) & Fact(swelling=True))\n",
        "    def allergic_reaction(self):\n",
        "        print(\"Diagnosis: You may be having an allergic reaction.\")\n",
        "\n",
        "    @Rule(Fact(nyeri_otot=True) & Fact(nyeri_perut=True))\n",
        "    def hernia(self):\n",
        "      print(\"Diagnosis: Hernia. Innalillahi.\")\n",
        "\n",
        "#Running the expert system\n",
        "engine = SistemPakarMedis()\n",
        "engine.reset()\n",
        "engine.declare(Fact(chest_pain=True))\n",
        "engine.declare(Fact(shortness_of_breath=True))\n",
        "engine.declare(Fact(sweating=True)) #Input symptoms\n",
        "engine.run()"
      ],
      "metadata": {
        "colab": {
          "base_uri": "https://localhost:8080/"
        },
        "id": "dAB7r-6nm_5A",
        "outputId": "2e50b9ef-5759-493c-f372-689e7899cf69"
      },
      "execution_count": 5,
      "outputs": [
        {
          "output_type": "stream",
          "name": "stdout",
          "text": [
            "Diagnosis: You may be having a heart attack. Seek immediate medical attention.\n"
          ]
        }
      ]
    },
    {
      "cell_type": "code",
      "source": [
        "def forward_chaining(facts, rules):\n",
        "    inferred = set(facts)\n",
        "    changed = True\n",
        "\n",
        "    while changed:\n",
        "        changed = False\n",
        "        for rule in rules:\n",
        "            if rule['if'].issubset(inferred) and rule[\"then\"] not in inferred:\n",
        "                inferred.add(rule[\"then\"])\n",
        "                changed = True\n",
        "    return inferred\n",
        "\n",
        "facts = {\"has_feathers\", \"has_beak\", \"carnivore\"}\n",
        "rules = [\n",
        "    {\"if\": {\"has_feathers\", \"has_beak\"}, \"then\": \"is_bird\"},\n",
        "    {\"if\": {\"lays_eggs\", \"is_bird\"}, \"then\": \"is_chicken\"},\n",
        "    {\"if\": {\"cannot_fly\", \"is_bird\"}, \"then\": \"is_penguin\"},\n",
        "    {\"if\": {\"carnivore\", \"is_bird\"}, \"then\": \"is_eagle\"}\n",
        "]\n",
        "\n",
        "result = forward_chaining(facts, rules)\n",
        "print(\"Inferred facts:\", result)"
      ],
      "metadata": {
        "colab": {
          "base_uri": "https://localhost:8080/"
        },
        "id": "hflhbYzCq0pA",
        "outputId": "1bfb73c9-c92b-40b2-d887-62b4478ab81d"
      },
      "execution_count": 5,
      "outputs": [
        {
          "output_type": "stream",
          "name": "stdout",
          "text": [
            "Inferred facts: {'has_beak', 'has_feathers', 'is_eagle', 'carnivore', 'is_bird'}\n"
          ]
        }
      ]
    },
    {
      "cell_type": "code",
      "source": [
        "def backward_chaining(goal, facts, rules):\n",
        "    if goal in facts:\n",
        "        return True\n",
        "    for rule in rules:\n",
        "        if rule[\"then\"] == goal:\n",
        "            if all(backward_chaining(cond, facts, rules) for cond in rule[\"if\"]):\n",
        "                return True\n",
        "    return False\n",
        "\n",
        "facts = {\"likes_computers\", \"solves_problems\", \"likes_to_design\"}\n",
        "rules = [\n",
        "    {\"if\": {\"likes_computers\", \"solves_problems\"}, \"then\": \"should_be_engineer\"},\n",
        "    {\"if\": {\"should_be_engineer\", \"likes_programming\"}, \"then\": \"software_engineer\"},\n",
        "    {\"if\": {\"should_be_engineer\", \"likes_to_design\"}, \"then\": \"UI/UX_engineer\"},\n",
        "]\n",
        "\n",
        "goal = \"UI/UX_engineer\"\n",
        "result = backward_chaining(goal, facts, rules)\n",
        "print(f\"Is '{goal}' provable? ->\", result)"
      ],
      "metadata": {
        "colab": {
          "base_uri": "https://localhost:8080/"
        },
        "id": "AiCDwzqRubpv",
        "outputId": "ee44ecce-5d0f-45c6-e8c7-db35666c5c09"
      },
      "execution_count": 6,
      "outputs": [
        {
          "output_type": "stream",
          "name": "stdout",
          "text": [
            "Is 'UI/UX_engineer' provable? -> True\n"
          ]
        }
      ]
    },
    {
      "cell_type": "code",
      "source": [
        "def forward_chaining(facts, rules):\n",
        "    inferred = set(facts)\n",
        "    changed = True\n",
        "\n",
        "    while changed:\n",
        "        changed = False\n",
        "        for rule in rules:\n",
        "            if rule['if'].issubset(inferred) and rule[\"then\"] not in inferred:\n",
        "                inferred.add(rule[\"then\"])\n",
        "                changed = True\n",
        "    return inferred\n",
        "\n",
        "facts = {\"has_wheels\", \"has_engine\", \"has_four_wheels\"}\n",
        "rules = [\n",
        "    {\"if\": {\"has_wheels\", \"has_engine\"}, \"then\": \"is_vehicle\"},\n",
        "    {\"if\": {\"is_vehicle\", \"has_two_wheels\"}, \"then\": \"is_motorcycle\"},\n",
        "    {\"if\": {\"is_vehicle\", \"has_four_wheels\"}, \"then\": \"is_car\"},\n",
        "]\n",
        "\n",
        "result = forward_chaining(facts, rules)\n",
        "print(\"Inferred facts:\", result)"
      ],
      "metadata": {
        "colab": {
          "base_uri": "https://localhost:8080/"
        },
        "id": "BJubTgw9ypW2",
        "outputId": "118bff38-c9c5-40cd-c167-1c66e569d541"
      },
      "execution_count": 7,
      "outputs": [
        {
          "output_type": "stream",
          "name": "stdout",
          "text": [
            "Inferred facts: {'is_car', 'is_vehicle', 'has_wheels', 'has_engine', 'has_four_wheels'}\n"
          ]
        }
      ]
    },
    {
      "cell_type": "code",
      "source": [
        "def backward_chaining(goal, facts, rules):\n",
        "    if goal in facts:\n",
        "        return True\n",
        "    for rule in rules:\n",
        "        if rule[\"then\"] == goal:\n",
        "            if all(backward_chaining(cond, facts, rules) for cond in rule[\"if\"]):\n",
        "                return True\n",
        "    return False\n",
        "\n",
        "facts = {\"has_feathers\", \"has_small_wings\"}\n",
        "rules = [\n",
        "    {\"if\": {\"has_feathers\"}, \"then\": \"is_bird\"},\n",
        "    {\"if\": {\"has_small_wings\"}, \"then\": \"cannot_fly\"},\n",
        "    {\"if\": {\"is_bird\", \"cannot_fly\"}, \"then\": \"is_penguin\"},\n",
        "]\n",
        "\n",
        "goal = \"is_penguin\"\n",
        "result = backward_chaining(goal, facts, rules)\n",
        "print(f\"Is '{goal}' provable? ->\", result)"
      ],
      "metadata": {
        "colab": {
          "base_uri": "https://localhost:8080/"
        },
        "id": "jSjPwt4G1Xd-",
        "outputId": "545fbb69-c3e8-4fb7-a796-76285913d51f"
      },
      "execution_count": 8,
      "outputs": [
        {
          "output_type": "stream",
          "name": "stdout",
          "text": [
            "Is 'is_penguin' provable? -> True\n"
          ]
        }
      ]
    }
  ]
}